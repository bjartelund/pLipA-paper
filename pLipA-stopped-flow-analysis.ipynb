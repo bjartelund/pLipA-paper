{
 "cells": [
  {
   "cell_type": "code",
   "execution_count": 2,
   "metadata": {},
   "outputs": [],
   "source": [
    "import pandas as pd\n",
    "import numpy as np\n",
    "from scipy import optimize\n"
   ]
  },
  {
   "cell_type": "code",
   "execution_count": 3,
   "metadata": {},
   "outputs": [],
   "source": [
    "rawdata=pd.read_csv(\"2uM_pLipA_40uM_MUB_RUN_0590.csv\",header=0,names=(\"time\",\"fluorescence\"))"
   ]
  },
  {
   "cell_type": "code",
   "execution_count": 4,
   "metadata": {},
   "outputs": [
    {
     "data": {
      "text/html": [
       "<div>\n",
       "<style scoped>\n",
       "    .dataframe tbody tr th:only-of-type {\n",
       "        vertical-align: middle;\n",
       "    }\n",
       "\n",
       "    .dataframe tbody tr th {\n",
       "        vertical-align: top;\n",
       "    }\n",
       "\n",
       "    .dataframe thead th {\n",
       "        text-align: right;\n",
       "    }\n",
       "</style>\n",
       "<table border=\"1\" class=\"dataframe\">\n",
       "  <thead>\n",
       "    <tr style=\"text-align: right;\">\n",
       "      <th></th>\n",
       "      <th>time</th>\n",
       "      <th>fluorescence</th>\n",
       "    </tr>\n",
       "  </thead>\n",
       "  <tbody>\n",
       "    <tr>\n",
       "      <th>0</th>\n",
       "      <td>0.00010</td>\n",
       "      <td>1.13000</td>\n",
       "    </tr>\n",
       "    <tr>\n",
       "      <th>1</th>\n",
       "      <td>0.00015</td>\n",
       "      <td>1.13061</td>\n",
       "    </tr>\n",
       "    <tr>\n",
       "      <th>2</th>\n",
       "      <td>0.00020</td>\n",
       "      <td>1.12763</td>\n",
       "    </tr>\n",
       "    <tr>\n",
       "      <th>3</th>\n",
       "      <td>0.00025</td>\n",
       "      <td>1.12118</td>\n",
       "    </tr>\n",
       "    <tr>\n",
       "      <th>4</th>\n",
       "      <td>0.00030</td>\n",
       "      <td>1.11953</td>\n",
       "    </tr>\n",
       "    <tr>\n",
       "      <th>...</th>\n",
       "      <td>...</td>\n",
       "      <td>...</td>\n",
       "    </tr>\n",
       "    <tr>\n",
       "      <th>3994</th>\n",
       "      <td>0.19980</td>\n",
       "      <td>1.96380</td>\n",
       "    </tr>\n",
       "    <tr>\n",
       "      <th>3995</th>\n",
       "      <td>0.19985</td>\n",
       "      <td>1.96516</td>\n",
       "    </tr>\n",
       "    <tr>\n",
       "      <th>3996</th>\n",
       "      <td>0.19990</td>\n",
       "      <td>1.96637</td>\n",
       "    </tr>\n",
       "    <tr>\n",
       "      <th>3997</th>\n",
       "      <td>0.19995</td>\n",
       "      <td>1.95806</td>\n",
       "    </tr>\n",
       "    <tr>\n",
       "      <th>3998</th>\n",
       "      <td>0.20000</td>\n",
       "      <td>1.95712</td>\n",
       "    </tr>\n",
       "  </tbody>\n",
       "</table>\n",
       "<p>3999 rows × 2 columns</p>\n",
       "</div>"
      ],
      "text/plain": [
       "         time  fluorescence\n",
       "0     0.00010       1.13000\n",
       "1     0.00015       1.13061\n",
       "2     0.00020       1.12763\n",
       "3     0.00025       1.12118\n",
       "4     0.00030       1.11953\n",
       "...       ...           ...\n",
       "3994  0.19980       1.96380\n",
       "3995  0.19985       1.96516\n",
       "3996  0.19990       1.96637\n",
       "3997  0.19995       1.95806\n",
       "3998  0.20000       1.95712\n",
       "\n",
       "[3999 rows x 2 columns]"
      ]
     },
     "execution_count": 4,
     "metadata": {},
     "output_type": "execute_result"
    }
   ],
   "source": [
    "rawdata"
   ]
  },
  {
   "cell_type": "code",
   "execution_count": 5,
   "metadata": {},
   "outputs": [
    {
     "data": {
      "text/plain": [
       "<AxesSubplot:xlabel='time'>"
      ]
     },
     "execution_count": 5,
     "metadata": {},
     "output_type": "execute_result"
    },
    {
     "data": {
      "image/png": "[encoded data removed]",
      "text/plain": [
       "<Figure size 432x288 with 1 Axes>"
      ]
     },
     "metadata": {
      "needs_background": "light"
     },
     "output_type": "display_data"
    }
   ],
   "source": [
    "rawdata.plot(x=\"time\",y=\"fluorescence\")"
   ]
  },
  {
   "cell_type": "code",
   "execution_count": 6,
   "metadata": {},
   "outputs": [],
   "source": [
    "def piecewise_linear(x, x0, y0, k1, k2):\n",
    "    return np.piecewise(x, [x > x0], [lambda x:k1*x + y0-k1*x0, lambda x:k2*x + y0-k2*x0])"
   ]
  },
  {
   "cell_type": "code",
   "execution_count": 7,
   "metadata": {},
   "outputs": [],
   "source": [
    "x=rawdata.time.to_numpy()\n",
    "y=rawdata.fluorescence.to_numpy()"
   ]
  },
  {
   "cell_type": "code",
   "execution_count": 8,
   "metadata": {},
   "outputs": [
    {
     "name": "stderr",
     "output_type": "stream",
     "text": [
      "C:\\Users\\blu002\\Anaconda3\\lib\\site-packages\\scipy\\optimize\\minpack.py:828: OptimizeWarning: Covariance of the parameters could not be estimated\n",
      "  warnings.warn('Covariance of the parameters could not be estimated',\n"
     ]
    }
   ],
   "source": [
    "p , e = optimize.curve_fit(piecewise_linear, x, y)\n",
    "\n",
    "### Unsuccessful first attempt"
   ]
  },
  {
   "cell_type": "code",
   "execution_count": 9,
   "metadata": {},
   "outputs": [],
   "source": [
    "xd = np.linspace(0, 0.2, 2)"
   ]
  },
  {
   "cell_type": "code",
   "execution_count": 10,
   "metadata": {},
   "outputs": [
    {
     "data": {
      "text/plain": [
       "[<matplotlib.lines.Line2D at 0x213c47581c0>]"
      ]
     },
     "execution_count": 10,
     "metadata": {},
     "output_type": "execute_result"
    },
    {
     "data": {
      "image/png": "[encoded data removed]",
      "text/plain": [
       "<Figure size 432x288 with 1 Axes>"
      ]
     },
     "metadata": {
      "needs_background": "light"
     },
     "output_type": "display_data"
    }
   ],
   "source": [
    "import matplotlib.pyplot as plt\n",
    "%matplotlib inline\n",
    "plt.plot(x, y, \"o\")\n",
    "plt.plot(xd, piecewise_linear(xd, *p))"
   ]
  },
  {
   "cell_type": "code",
   "execution_count": null,
   "metadata": {},
   "outputs": [],
   "source": []
  },
  {
   "cell_type": "code",
   "execution_count": 11,
   "metadata": {},
   "outputs": [],
   "source": [
    "import pwlf\n",
    "### Following https://stackoverflow.com/a/53641453/16052894"
   ]
  },
  {
   "cell_type": "code",
   "execution_count": 12,
   "metadata": {},
   "outputs": [],
   "source": [
    "my_pwlf = pwlf.PiecewiseLinFit(x, y)\n"
   ]
  },
  {
   "cell_type": "code",
   "execution_count": 13,
   "metadata": {},
   "outputs": [
    {
     "name": "stdout",
     "output_type": "stream",
     "text": [
      "[1.00000000e-04 7.11621138e-02 2.00000000e-01]\n"
     ]
    }
   ],
   "source": [
    "breaks = my_pwlf.fit(2)\n",
    "print(breaks)\n"
   ]
  },
  {
   "cell_type": "code",
   "execution_count": 16,
   "metadata": {},
   "outputs": [
    {
     "data": {
      "image/png": "[encoded data removed]",
      "text/plain": [
       "<Figure size 432x288 with 1 Axes>"
      ]
     },
     "metadata": {
      "needs_background": "light"
     },
     "output_type": "display_data"
    }
   ],
   "source": [
    "x_hat = np.linspace(x.min(), x.max(), 100)\n",
    "y_hat = my_pwlf.predict(x_hat)\n",
    "plt.rcParams['font.size'] = '14'\n",
    "plt.rcParams['font.sans-serif'] = \"Arial\"\n",
    "plt.rcParams['font.family'] = \"sans-serif\"\n",
    "plt.figure()\n",
    "plt.plot(x, y, 'o')\n",
    "plt.plot(x_hat, y_hat, '-',linewidth=3.0)\n",
    "plt.axvline(x=breaks[1],color=\"green\",linewidth=1) #Break in trend\n",
    "#plt.xlabel(\"Time(s)\")\n",
    "#plt.ylabel(\"Fluorescence signal (V)\")\n",
    "plt.savefig(\"pLipA-stop-flow.png\",dpi=300)\n",
    "plt.show()"
   ]
  },
  {
   "cell_type": "code",
   "execution_count": null,
   "metadata": {},
   "outputs": [],
   "source": []
  },
  {
   "cell_type": "code",
   "execution_count": 15,
   "metadata": {},
   "outputs": [
    {
     "name": "stdout",
     "output_type": "stream",
     "text": [
      "Equation number:  1\n",
      "5.24612111586395*x + 1.09181529749831\n",
      "Equation number:  2\n",
      "3.81115953723778*x + 1.19393019666097\n"
     ]
    }
   ],
   "source": [
    "from sympy import Symbol\n",
    "from sympy.utilities import lambdify\n",
    "xsym = Symbol('x')\n",
    "### Unmodified from pwlf manual https://jekel.me/piecewise_linear_fit_py/examples.html\n",
    "\n",
    "def get_symbolic_eqn(pwlf_, segment_number):\n",
    "    if pwlf_.degree < 1:\n",
    "        raise ValueError('Degree must be at least 1')\n",
    "    if segment_number < 1 or segment_number > pwlf_.n_segments:\n",
    "        raise ValueError('segment_number not possible')\n",
    "    # assemble degree = 1 first\n",
    "    for line in range(segment_number):\n",
    "        if line == 0:\n",
    "            my_eqn = pwlf_.beta[0] + (pwlf_.beta[1])*(xsym-pwlf_.fit_breaks[0])\n",
    "        else:\n",
    "            my_eqn += (pwlf_.beta[line+1])*(xsym-pwlf_.fit_breaks[line])\n",
    "    # assemble all other degrees\n",
    "    if pwlf_.degree > 1:\n",
    "        for k in range(2, pwlf_.degree + 1):\n",
    "            for line in range(segment_number):\n",
    "                beta_index = pwlf_.n_segments*(k-1) + line + 1\n",
    "                my_eqn += (pwlf_.beta[beta_index])*(xsym-pwlf_.fit_breaks[line])**k\n",
    "    return my_eqn.simplify()\n",
    "\n",
    "\n",
    "eqn_list = []\n",
    "f_list = []\n",
    "for i in range(my_pwlf.n_segments):\n",
    "    eqn_list.append(get_symbolic_eqn(my_pwlf, i + 1))\n",
    "    print('Equation number: ', i + 1)\n",
    "    print(eqn_list[-1])\n",
    "    f_list.append(lambdify(xsym, eqn_list[-1]))"
   ]
  },
  {
   "cell_type": "markdown",
   "metadata": {},
   "source": [
    "@Manual{pwlf,\n",
    "    author = {Jekel, Charles F. and Venter, Gerhard},\n",
    "    title = {{pwlf:} A Python Library for Fitting 1D Continuous Piecewise Linear Functions},\n",
    "    year = {2019},\n",
    "    url = {https://github.com/cjekel/piecewise_linear_fit_py}\n",
    "}"
   ]
  }
 ],
 "metadata": {
  "kernelspec": {
   "display_name": "Python 3",
   "language": "python",
   "name": "python3"
  },
  "language_info": {
   "codemirror_mode": {
    "name": "ipython",
    "version": 3
   },
   "file_extension": ".py",
   "mimetype": "text/x-python",
   "name": "python",
   "nbconvert_exporter": "python",
   "pygments_lexer": "ipython3",
   "version": "3.8.5"
  }
 },
 "nbformat": 4,
 "nbformat_minor": 4
}
